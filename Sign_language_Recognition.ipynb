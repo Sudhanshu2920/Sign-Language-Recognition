{
  "nbformat": 4,
  "nbformat_minor": 0,
  "metadata": {
    "colab": {
      "name": "Sign_language_Recognition.ipynb",
      "provenance": [],
      "collapsed_sections": [],
      "toc_visible": true
    },
    "kernelspec": {
      "name": "python3",
      "display_name": "Python 3"
    },
    "language_info": {
      "name": "python"
    }
  },
  "cells": [
    {
      "cell_type": "code",
      "metadata": {
        "id": "rwaOyxqHT14w"
      },
      "source": [
        "import matplotlib.pyplot as plt\n",
        "import numpy as np\n",
        "import os\n",
        "import tensorflow as tf\n",
        "import cv2\n",
        "from tensorflow.keras.layers import Dense, Flatten, Input, Dropout,Conv2D,MaxPool2D\n",
        "from tensorflow.keras.models import Model, load_model, Sequential\n",
        "from tensorflow.keras.preprocessing.image import ImageDataGenerator\n",
        "from sklearn.metrics import confusion_matrix, classification_report\n",
        "from google.colab import drive"
      ],
      "execution_count": null,
      "outputs": []
    },
    {
      "cell_type": "markdown",
      "metadata": {
        "id": "MKN2lM8bsOrC"
      },
      "source": [
        "#Importing Dataset\n"
      ]
    },
    {
      "cell_type": "code",
      "metadata": {
        "colab": {
          "base_uri": "https://localhost:8080/"
        },
        "id": "d31WAxNqsLZg",
        "outputId": "721679ef-49bc-491d-cd7d-d58dedb12d39"
      },
      "source": [
        "from google.colab import drive\n",
        "drive.mount('/content/gdrive')"
      ],
      "execution_count": null,
      "outputs": [
        {
          "output_type": "stream",
          "text": [
            "Mounted at /content/gdrive\n"
          ],
          "name": "stdout"
        }
      ]
    },
    {
      "cell_type": "code",
      "metadata": {
        "id": "e_iXGFDisfLa"
      },
      "source": [
        "DATA_DIR='/content/gdrive/MyDrive/Sign_Language_Recognition'"
      ],
      "execution_count": null,
      "outputs": []
    },
    {
      "cell_type": "code",
      "metadata": {
        "id": "5LsHOcLrs4ve"
      },
      "source": [
        "datagen = ImageDataGenerator(rescale=1./255, validation_split=0.2)\n",
        "IMAGE_SIZE=224\n",
        "BATCH_SIZE=32"
      ],
      "execution_count": null,
      "outputs": []
    },
    {
      "cell_type": "code",
      "metadata": {
        "colab": {
          "base_uri": "https://localhost:8080/"
        },
        "id": "R5zp1spZtB7w",
        "outputId": "952d6c4b-9915-4614-ce55-26fca65c9597"
      },
      "source": [
        "train_generator = datagen.flow_from_directory(directory=DATA_DIR, \n",
        "                                              target_size=(IMAGE_SIZE, IMAGE_SIZE), \n",
        "                                              color_mode='grayscale', \n",
        "                                              class_mode='categorical', \n",
        "                                              batch_size=BATCH_SIZE, \n",
        "                                              shuffle=True, \n",
        "                                              subset='training')\n",
        "\n",
        "test_generator = datagen.flow_from_directory(directory=DATA_DIR, \n",
        "                                              target_size=(IMAGE_SIZE, IMAGE_SIZE), \n",
        "                                              color_mode='grayscale', \n",
        "                                              class_mode='categorical', \n",
        "                                              batch_size=BATCH_SIZE, \n",
        "                                              shuffle=False, \n",
        "                                              subset='validation')"
      ],
      "execution_count": null,
      "outputs": [
        {
          "output_type": "stream",
          "text": [
            "Found 2012 images belonging to 36 classes.\n",
            "Found 503 images belonging to 36 classes.\n"
          ],
          "name": "stdout"
        }
      ]
    },
    {
      "cell_type": "markdown",
      "metadata": {
        "id": "KPa0pKbVDwoQ"
      },
      "source": [
        "#Building The Model"
      ]
    },
    {
      "cell_type": "code",
      "metadata": {
        "id": "EuNl0SXEtSI6"
      },
      "source": [
        "model=Sequential()"
      ],
      "execution_count": null,
      "outputs": []
    },
    {
      "cell_type": "code",
      "metadata": {
        "id": "SR5zUfZItxWJ"
      },
      "source": [
        "model.add(Conv2D(32,(3,3),input_shape=(train_generator.image_shape),activation=\"relu\"))\n",
        "model.add(MaxPool2D(pool_size=(2,2)))\n",
        "model.add(Conv2D(64,(3,3),activation=\"relu\"))\n",
        "model.add(MaxPool2D(pool_size=(2,2)))\n",
        "model.add(Flatten())\n",
        "model.add(Dense(128,activation=\"relu\"))\n",
        "model.add(Dropout(0.20))\n",
        "model.add(Dense(96,activation=\"relu\"))\n",
        "model.add(Dropout(0.20))\n",
        "model.add(Dense(64,activation=\"relu\"))\n",
        "model.add(Dense(train_generator.num_classes,activation=\"softmax\"))"
      ],
      "execution_count": null,
      "outputs": []
    },
    {
      "cell_type": "code",
      "metadata": {
        "id": "_Uesx0fk7bJS",
        "colab": {
          "base_uri": "https://localhost:8080/"
        },
        "outputId": "10990c67-e37e-41da-d2bf-0d371ccd9b16"
      },
      "source": [
        "model.summary()"
      ],
      "execution_count": null,
      "outputs": [
        {
          "output_type": "stream",
          "text": [
            "Model: \"sequential\"\n",
            "_________________________________________________________________\n",
            "Layer (type)                 Output Shape              Param #   \n",
            "=================================================================\n",
            "conv2d (Conv2D)              (None, 222, 222, 32)      320       \n",
            "_________________________________________________________________\n",
            "max_pooling2d (MaxPooling2D) (None, 111, 111, 32)      0         \n",
            "_________________________________________________________________\n",
            "conv2d_1 (Conv2D)            (None, 109, 109, 64)      18496     \n",
            "_________________________________________________________________\n",
            "max_pooling2d_1 (MaxPooling2 (None, 54, 54, 64)        0         \n",
            "_________________________________________________________________\n",
            "flatten (Flatten)            (None, 186624)            0         \n",
            "_________________________________________________________________\n",
            "dense (Dense)                (None, 128)               23888000  \n",
            "_________________________________________________________________\n",
            "dropout (Dropout)            (None, 128)               0         \n",
            "_________________________________________________________________\n",
            "dense_1 (Dense)              (None, 96)                12384     \n",
            "_________________________________________________________________\n",
            "dropout_1 (Dropout)          (None, 96)                0         \n",
            "_________________________________________________________________\n",
            "dense_2 (Dense)              (None, 64)                6208      \n",
            "_________________________________________________________________\n",
            "dense_3 (Dense)              (None, 36)                2340      \n",
            "=================================================================\n",
            "Total params: 23,927,748\n",
            "Trainable params: 23,927,748\n",
            "Non-trainable params: 0\n",
            "_________________________________________________________________\n"
          ],
          "name": "stdout"
        }
      ]
    },
    {
      "cell_type": "code",
      "metadata": {
        "id": "8Xz4UwM8CLAy"
      },
      "source": [
        "model.compile(optimizer='adam', loss='categorical_crossentropy', metrics=['accuracy'])"
      ],
      "execution_count": null,
      "outputs": []
    },
    {
      "cell_type": "markdown",
      "metadata": {
        "id": "4OLVSYeSEKK5"
      },
      "source": [
        "#Training the model"
      ]
    },
    {
      "cell_type": "code",
      "metadata": {
        "id": "AOu2dcCdD0vm"
      },
      "source": [
        "EPOCHS=10"
      ],
      "execution_count": null,
      "outputs": []
    },
    {
      "cell_type": "code",
      "metadata": {
        "colab": {
          "base_uri": "https://localhost:8080/"
        },
        "id": "kUryocInERYJ",
        "outputId": "787b4220-0a67-4f43-962b-cd3c80b2f951"
      },
      "source": [
        "history = model.fit(x=train_generator,\n",
        "                    epochs=EPOCHS,\n",
        "                    steps_per_epoch=train_generator.samples // train_generator.batch_size)"
      ],
      "execution_count": null,
      "outputs": [
        {
          "output_type": "stream",
          "text": [
            "Epoch 1/10\n",
            "62/62 [==============================] - 428s 7s/step - loss: 3.4415 - accuracy: 0.0793\n",
            "Epoch 2/10\n",
            "62/62 [==============================] - 122s 2s/step - loss: 1.4955 - accuracy: 0.5463\n",
            "Epoch 3/10\n",
            "62/62 [==============================] - 122s 2s/step - loss: 0.6713 - accuracy: 0.7869\n",
            "Epoch 4/10\n",
            "62/62 [==============================] - 123s 2s/step - loss: 0.3636 - accuracy: 0.8810\n",
            "Epoch 5/10\n",
            "62/62 [==============================] - 122s 2s/step - loss: 0.2336 - accuracy: 0.9351\n",
            "Epoch 6/10\n",
            "62/62 [==============================] - 123s 2s/step - loss: 0.1824 - accuracy: 0.9366\n",
            "Epoch 7/10\n",
            "62/62 [==============================] - 123s 2s/step - loss: 0.1600 - accuracy: 0.9470\n",
            "Epoch 8/10\n",
            "62/62 [==============================] - 123s 2s/step - loss: 0.1222 - accuracy: 0.9597\n",
            "Epoch 9/10\n",
            "62/62 [==============================] - 123s 2s/step - loss: 0.0973 - accuracy: 0.9741\n",
            "Epoch 10/10\n",
            "62/62 [==============================] - 123s 2s/step - loss: 0.1233 - accuracy: 0.9631\n"
          ],
          "name": "stdout"
        }
      ]
    },
    {
      "cell_type": "code",
      "metadata": {
        "colab": {
          "base_uri": "https://localhost:8080/"
        },
        "id": "61PxM8IGEVGF",
        "outputId": "8d40e3b8-f1cf-44d2-9508-2946a1a28a00"
      },
      "source": [
        "results = model.evaluate(x=test_generator)"
      ],
      "execution_count": null,
      "outputs": [
        {
          "output_type": "stream",
          "text": [
            "16/16 [==============================] - 114s 8s/step - loss: 0.5321 - accuracy: 0.8410\n"
          ],
          "name": "stdout"
        }
      ]
    },
    {
      "cell_type": "code",
      "metadata": {
        "colab": {
          "base_uri": "https://localhost:8080/"
        },
        "id": "7a7cfSbRFb3H",
        "outputId": "93d286a9-8160-40cc-9c1c-f2668d5fb969"
      },
      "source": [
        "print(f'Validation Loss: {results[0]}')\n",
        "print(f'Validation Accuracy: {results[1]}')"
      ],
      "execution_count": null,
      "outputs": [
        {
          "output_type": "stream",
          "text": [
            "Validation Loss: 0.5320578217506409\n",
            "Validation Accuracy: 0.8409543037414551\n"
          ],
          "name": "stdout"
        }
      ]
    },
    {
      "cell_type": "markdown",
      "metadata": {
        "id": "ZdKL3SQ3JloV"
      },
      "source": [
        "#Predicting classes for test dataset and model evaluation"
      ]
    },
    {
      "cell_type": "code",
      "metadata": {
        "id": "-6RCQcG3JRUa"
      },
      "source": [
        "predict=model.predict(x=test_generator)"
      ],
      "execution_count": null,
      "outputs": []
    },
    {
      "cell_type": "code",
      "metadata": {
        "id": "hUyCHAmbJ0LE"
      },
      "source": [
        "pred=np.argmax(predict,axis=1)"
      ],
      "execution_count": null,
      "outputs": []
    },
    {
      "cell_type": "code",
      "metadata": {
        "id": "V9Yc2iROJ72V",
        "colab": {
          "base_uri": "https://localhost:8080/"
        },
        "outputId": "ff652cbe-8b9c-4bc8-f1aa-af278060a7b1"
      },
      "source": [
        "pred"
      ],
      "execution_count": null,
      "outputs": [
        {
          "output_type": "execute_result",
          "data": {
            "text/plain": [
              "array([24, 24, 24, 12, 24,  0,  0,  0,  0,  0,  0,  0,  0,  0,  1,  1,  1,\n",
              "        1,  1,  1,  1,  1,  1,  1, 13, 13,  1,  1,  2,  2,  2,  2,  2,  2,\n",
              "        2,  2,  2, 31,  2,  2,  2,  2,  3,  3,  3,  3,  3,  3,  3,  3,  3,\n",
              "        3,  3,  3,  3,  3,  4,  4,  4,  4,  4,  4,  4,  4,  4,  4,  4,  4,\n",
              "        4,  4,  5,  5,  5,  5,  5,  5,  5,  5,  5,  5,  5,  5,  5,  5,  6,\n",
              "        6, 32, 32, 32,  6, 32, 32, 32, 32,  6,  6,  6,  6,  7,  4,  4,  4,\n",
              "        7,  7,  7,  7,  7,  7,  7,  7,  7,  7,  4,  4,  8,  4,  4,  8,  8,\n",
              "        8,  8,  8,  8,  8,  8,  8,  9,  9,  9,  9,  9,  9,  9,  9,  9,  9,\n",
              "        9,  9,  9,  9, 23, 23, 23, 23, 23, 28, 28, 28, 10, 10, 10, 10, 10,\n",
              "       10, 11, 11, 11, 11, 11, 11, 11, 11, 11, 11, 11, 11, 11, 11, 12, 12,\n",
              "       12, 12, 12, 12, 12, 12, 12, 12, 12, 12, 12, 12, 13, 13, 13, 13, 13,\n",
              "       13, 13, 13, 13, 13, 13, 13, 13, 13, 14, 14, 14, 14, 14, 14, 14, 14,\n",
              "       14, 14, 14, 14, 14, 14, 15, 15, 15, 15, 15, 15, 15, 15, 15, 15, 15,\n",
              "       15, 15, 15, 16, 16, 16, 16, 16, 16, 16, 16, 16, 16, 16, 16, 16, 16,\n",
              "       17, 17, 17, 17, 17, 17, 17, 17, 17, 17, 17, 17, 17, 17, 18, 18, 18,\n",
              "       18, 18, 18, 18, 18, 18, 18, 18, 18, 18, 18, 19, 19, 19, 19, 19, 17,\n",
              "       17, 19, 19, 19, 19, 19, 19, 19, 20, 20, 20, 20, 20, 20, 20, 20, 20,\n",
              "       20, 20, 20, 20, 20, 21, 21, 21, 21, 21, 21, 21, 21,  3, 21, 21, 21,\n",
              "       21, 21, 23, 23, 23, 23, 23, 23, 22, 22, 22, 22, 29, 22, 22, 22, 23,\n",
              "       23, 23, 23, 23, 23, 23, 19, 23, 23, 23, 23, 23, 23,  0,  0,  0,  0,\n",
              "        0, 24, 24, 24, 24, 24, 24, 24, 24, 24, 25, 25, 25, 25, 25, 25, 25,\n",
              "       25, 25, 25, 25, 25, 25, 25, 26, 26, 26, 26, 26, 26, 26, 26, 26, 26,\n",
              "       26, 26, 26, 26, 20, 35, 35, 20, 20, 30, 30, 30, 27, 27, 27, 27, 27,\n",
              "       27, 29, 29, 29, 29, 29, 28, 28, 28, 28, 28, 28, 28, 28, 28, 29, 23,\n",
              "       29, 29, 13, 23, 29, 29, 23, 23, 29, 29, 29, 31, 30, 31,  2,  2, 30,\n",
              "       30, 30, 30, 30, 30, 30, 30, 30,  2,  2, 30,  2,  2,  2,  2, 20, 20,\n",
              "        2, 31, 31, 31, 31, 32, 32, 32, 32, 32, 32, 32,  6, 32, 32, 32, 32,\n",
              "       32, 32, 33, 33, 33, 33, 33, 33, 33, 33, 33, 33, 33, 33, 33, 33, 34,\n",
              "       34, 34, 34, 34, 34, 34, 34, 34, 34, 34, 34, 34, 34, 35, 35, 35, 35,\n",
              "       35, 27, 35, 35, 35, 35, 35, 35, 35, 35])"
            ]
          },
          "metadata": {
            "tags": []
          },
          "execution_count": 19
        }
      ]
    },
    {
      "cell_type": "code",
      "metadata": {
        "colab": {
          "base_uri": "https://localhost:8080/"
        },
        "id": "2IrJeXQrKfPy",
        "outputId": "5dcb79ea-4b7e-4033-f50b-a021ee55f665"
      },
      "source": [
        "len(pred)"
      ],
      "execution_count": null,
      "outputs": [
        {
          "output_type": "execute_result",
          "data": {
            "text/plain": [
              "503"
            ]
          },
          "metadata": {
            "tags": []
          },
          "execution_count": 20
        }
      ]
    },
    {
      "cell_type": "code",
      "metadata": {
        "colab": {
          "base_uri": "https://localhost:8080/"
        },
        "id": "wKpOJiSaKo_x",
        "outputId": "16abe2d2-319e-4305-926b-18fa4a63b47c"
      },
      "source": [
        "print('Confusion Matrix:\\n')\n",
        "print(confusion_matrix(y_true=test_generator.classes, y_pred=pred))\n",
        "print('\\n\\n')\n",
        "print('Classification Report:\\n')\n",
        "print(classification_report(y_true=test_generator.classes, y_pred=pred))"
      ],
      "execution_count": null,
      "outputs": [
        {
          "output_type": "stream",
          "text": [
            "Confusion Matrix:\n",
            "\n",
            "[[ 9  0  0 ...  0  0  0]\n",
            " [ 0 12  0 ...  0  0  0]\n",
            " [ 0  0 13 ...  0  0  0]\n",
            " ...\n",
            " [ 0  0  0 ... 14  0  0]\n",
            " [ 0  0  0 ...  0 14  0]\n",
            " [ 0  0  0 ...  0  0 13]]\n",
            "\n",
            "\n",
            "\n",
            "Classification Report:\n",
            "\n",
            "              precision    recall  f1-score   support\n",
            "\n",
            "           0       0.64      0.64      0.64        14\n",
            "           1       1.00      0.86      0.92        14\n",
            "           2       0.59      0.93      0.72        14\n",
            "           3       0.93      1.00      0.97        14\n",
            "           4       0.67      1.00      0.80        14\n",
            "           5       1.00      1.00      1.00        14\n",
            "           6       0.88      0.50      0.64        14\n",
            "           7       1.00      0.79      0.88        14\n",
            "           8       1.00      0.71      0.83        14\n",
            "           9       1.00      1.00      1.00        14\n",
            "          10       1.00      0.43      0.60        14\n",
            "          11       1.00      1.00      1.00        14\n",
            "          12       0.93      1.00      0.97        14\n",
            "          13       0.82      1.00      0.90        14\n",
            "          14       1.00      1.00      1.00        14\n",
            "          15       1.00      1.00      1.00        14\n",
            "          16       1.00      1.00      1.00        14\n",
            "          17       0.88      1.00      0.93        14\n",
            "          18       1.00      1.00      1.00        14\n",
            "          19       0.92      0.86      0.89        14\n",
            "          20       0.74      1.00      0.85        14\n",
            "          21       1.00      0.93      0.96        14\n",
            "          22       1.00      0.50      0.67        14\n",
            "          23       0.46      0.93      0.62        14\n",
            "          24       0.69      0.64      0.67        14\n",
            "          25       1.00      1.00      1.00        14\n",
            "          26       1.00      1.00      1.00        14\n",
            "          27       0.86      0.43      0.57        14\n",
            "          28       0.75      0.64      0.69        14\n",
            "          29       0.57      0.62      0.59        13\n",
            "          30       0.71      0.71      0.71        14\n",
            "          31       0.57      0.29      0.38        14\n",
            "          32       0.65      0.93      0.76        14\n",
            "          33       1.00      1.00      1.00        14\n",
            "          34       1.00      1.00      1.00        14\n",
            "          35       0.87      0.93      0.90        14\n",
            "\n",
            "    accuracy                           0.84       503\n",
            "   macro avg       0.86      0.84      0.84       503\n",
            "weighted avg       0.87      0.84      0.84       503\n",
            "\n"
          ],
          "name": "stdout"
        }
      ]
    },
    {
      "cell_type": "markdown",
      "metadata": {
        "id": "VJ1vk5OgLiYM"
      },
      "source": [
        "Predicting class of a single image from the test dataset"
      ]
    },
    {
      "cell_type": "code",
      "metadata": {
        "id": "YPhdixeaK-Ts"
      },
      "source": [
        "img_path=\"/content/gdrive/MyDrive/Sign_Language_Recognition/2/hand1_2_bot_seg_2_cropped.png\""
      ],
      "execution_count": null,
      "outputs": []
    },
    {
      "cell_type": "code",
      "metadata": {
        "id": "z69ZX2FaLti6"
      },
      "source": [
        "img = cv2.imread(img_path)  # converts the image into a numerical matrix\n",
        "img=cv2.cvtColor(img, cv2.COLOR_BGR2GRAY) #converting into Grayscale"
      ],
      "execution_count": null,
      "outputs": []
    },
    {
      "cell_type": "code",
      "metadata": {
        "colab": {
          "base_uri": "https://localhost:8080/",
          "height": 269
        },
        "id": "0Z3eNBbeLxOp",
        "outputId": "c0a399f8-4339-4717-c3a9-212e5e583db4"
      },
      "source": [
        "plt.imshow(img)\n",
        "plt.show()"
      ],
      "execution_count": null,
      "outputs": [
        {
          "output_type": "display_data",
          "data": {
            "image/png": "[encoded data removed]",
            "text/plain": [
              "<Figure size 432x288 with 1 Axes>"
            ]
          },
          "metadata": {
            "tags": [],
            "needs_background": "light"
          }
        }
      ]
    },
    {
      "cell_type": "code",
      "metadata": {
        "id": "PTbNzgnzLz75"
      },
      "source": [
        "img = cv2.resize(img, (IMAGE_SIZE, IMAGE_SIZE))\n",
        "img = np.reshape(img, [1, IMAGE_SIZE, IMAGE_SIZE, 1])\n",
        "img = img/255."
      ],
      "execution_count": null,
      "outputs": []
    },
    {
      "cell_type": "code",
      "metadata": {
        "id": "2TapFd1SM0DC"
      },
      "source": [
        "class_confidence = model.predict(x=img)   # provides an array of predictions for each class"
      ],
      "execution_count": null,
      "outputs": []
    },
    {
      "cell_type": "code",
      "metadata": {
        "colab": {
          "base_uri": "https://localhost:8080/"
        },
        "id": "HxDConsEM3ID",
        "outputId": "1032f56a-1690-4f6f-8c29-52086f88de93"
      },
      "source": [
        "class_confidence"
      ],
      "execution_count": null,
      "outputs": [
        {
          "output_type": "execute_result",
          "data": {
            "text/plain": [
              "array([[4.84473603e-05, 1.42745237e-04, 9.32276905e-01, 5.18046409e-06,\n",
              "        2.87832086e-06, 1.37507950e-05, 1.77484136e-02, 1.37056915e-07,\n",
              "        1.38024072e-08, 1.60191818e-10, 2.63103357e-06, 1.69763138e-04,\n",
              "        1.36646577e-07, 4.06959686e-07, 1.21469078e-04, 1.85555909e-04,\n",
              "        3.67184221e-08, 1.14546894e-09, 2.02869296e-06, 9.83063302e-08,\n",
              "        6.16873568e-03, 1.36761509e-08, 9.54529445e-04, 5.44805254e-04,\n",
              "        4.24281607e-05, 2.74011527e-05, 1.59601711e-06, 6.36728643e-08,\n",
              "        1.31707784e-04, 7.19284965e-03, 1.35030466e-04, 2.10055672e-02,\n",
              "        1.30342534e-02, 8.25707905e-11, 1.11753934e-07, 4.02183941e-05]],\n",
              "      dtype=float32)"
            ]
          },
          "metadata": {
            "tags": []
          },
          "execution_count": 27
        }
      ]
    },
    {
      "cell_type": "code",
      "metadata": {
        "id": "GoS60tUCM58y"
      },
      "source": [
        "class_index = int(np.argmax(class_confidence, axis=1)) "
      ],
      "execution_count": null,
      "outputs": []
    },
    {
      "cell_type": "code",
      "metadata": {
        "colab": {
          "base_uri": "https://localhost:8080/"
        },
        "id": "Al_uWbnUM93C",
        "outputId": "c0c51e9e-b8a7-425b-9b8b-0cb9165f3024"
      },
      "source": [
        "class_index"
      ],
      "execution_count": null,
      "outputs": [
        {
          "output_type": "execute_result",
          "data": {
            "text/plain": [
              "2"
            ]
          },
          "metadata": {
            "tags": []
          },
          "execution_count": 29
        }
      ]
    },
    {
      "cell_type": "code",
      "metadata": {
        "colab": {
          "base_uri": "https://localhost:8080/"
        },
        "id": "pJDd669ANAwp",
        "outputId": "aee46347-18ff-4adf-9dab-6ff3ef9fd42b"
      },
      "source": [
        "classes = [x for x in test_generator.class_indices.keys()]\n",
        "classes"
      ],
      "execution_count": null,
      "outputs": [
        {
          "output_type": "execute_result",
          "data": {
            "text/plain": [
              "['0',\n",
              " '1',\n",
              " '2',\n",
              " '3',\n",
              " '4',\n",
              " '5',\n",
              " '6',\n",
              " '7',\n",
              " '8',\n",
              " '9',\n",
              " 'A',\n",
              " 'B',\n",
              " 'C',\n",
              " 'D',\n",
              " 'E',\n",
              " 'F',\n",
              " 'G',\n",
              " 'H',\n",
              " 'I',\n",
              " 'J',\n",
              " 'K',\n",
              " 'L',\n",
              " 'M',\n",
              " 'N',\n",
              " 'O',\n",
              " 'P',\n",
              " 'Q',\n",
              " 'R',\n",
              " 'S',\n",
              " 'T',\n",
              " 'U',\n",
              " 'V',\n",
              " 'W',\n",
              " 'X',\n",
              " 'Y',\n",
              " 'Z']"
            ]
          },
          "metadata": {
            "tags": []
          },
          "execution_count": 30
        }
      ]
    },
    {
      "cell_type": "code",
      "metadata": {
        "colab": {
          "base_uri": "https://localhost:8080/",
          "height": 35
        },
        "id": "VeemqRraNEa0",
        "outputId": "2f5ae1a2-3a74-4fea-f5fa-5bae6b18deb4"
      },
      "source": [
        "classes[class_index]"
      ],
      "execution_count": null,
      "outputs": [
        {
          "output_type": "execute_result",
          "data": {
            "application/vnd.google.colaboratory.intrinsic+json": {
              "type": "string"
            },
            "text/plain": [
              "'2'"
            ]
          },
          "metadata": {
            "tags": []
          },
          "execution_count": 31
        }
      ]
    },
    {
      "cell_type": "code",
      "metadata": {
        "colab": {
          "base_uri": "https://localhost:8080/"
        },
        "id": "YiTGGOzWNImP",
        "outputId": "76ecfae0-ba2b-4aa8-9f5a-5d490abba55d"
      },
      "source": [
        "class_confidence=np.squeeze(class_confidence)\n",
        "class_confidence[class_index]*100"
      ],
      "execution_count": null,
      "outputs": [
        {
          "output_type": "execute_result",
          "data": {
            "text/plain": [
              "93.22769045829773"
            ]
          },
          "metadata": {
            "tags": []
          },
          "execution_count": 32
        }
      ]
    },
    {
      "cell_type": "code",
      "metadata": {
        "id": "Xdh8fql9NSZC"
      },
      "source": [
        ""
      ],
      "execution_count": null,
      "outputs": []
    },
    {
      "cell_type": "markdown",
      "metadata": {
        "id": "_CYKqX4qOSj0"
      },
      "source": [
        "Saving the Model"
      ]
    },
    {
      "cell_type": "code",
      "metadata": {
        "id": "JrO8fNkIOVs1"
      },
      "source": [
        "file_path = '/content/gdrive/My Drive/Sign_Language_Model/model_1.h5'\n",
        "model.save(file_path)"
      ],
      "execution_count": null,
      "outputs": []
    },
    {
      "cell_type": "code",
      "metadata": {
        "id": "XXbX4ZDxO9P5"
      },
      "source": [
        ""
      ],
      "execution_count": null,
      "outputs": []
    },
    {
      "cell_type": "code",
      "metadata": {
        "id": "xuZMX1ItBvle"
      },
      "source": [
        ""
      ],
      "execution_count": null,
      "outputs": []
    }
  ]
}